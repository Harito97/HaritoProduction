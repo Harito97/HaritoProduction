{
 "cells": [
  {
   "cell_type": "code",
   "execution_count": null,
   "metadata": {},
   "outputs": [],
   "source": [
    "%cd /kaggle/working\n",
    "!git clone ...\n",
    "# %cd /Data/Projects/HaritoProduction\n",
    "%cd /kaggle/working/HaritoProduction\n",
    "%matplotlib inline\n",
    "%pip install -r backend/requirements.txt"
   ]
  },
  {
   "cell_type": "code",
   "execution_count": null,
   "metadata": {},
   "outputs": [],
   "source": [
    "from backend.app.models.ThyroidCancerClassificationModel import ThyroidCancerClassificationModel\n",
    "import numpy as np\n",
    "import torch\n",
    "\n",
    "model1_path = 'backend/app/models/model1.pth'\n",
    "model2_path = 'backend/app/models/model2.pth'\n",
    "model3_path = 'backend/app/models/model3.pth'\n",
    "\n",
    "model = ThyroidCancerClassificationModel(model1_path=model1_path, model2_path=model2_path, model3_path=model3_path)"
   ]
  },
  {
   "cell_type": "code",
   "execution_count": null,
   "metadata": {},
   "outputs": [],
   "source": [
    "import wandb\n",
    "\n",
    "wandb.login()"
   ]
  },
  {
   "cell_type": "code",
   "execution_count": null,
   "metadata": {},
   "outputs": [],
   "source": [
    "data_dir = \"\"\n",
    "model.test_with_each_part(data_dir, \"train\")"
   ]
  },
  {
   "cell_type": "code",
   "execution_count": null,
   "metadata": {},
   "outputs": [],
   "source": [
    "data_dir = \"\"\n",
    "model.test_with_each_part(data_dir, \"valid\")"
   ]
  },
  {
   "cell_type": "code",
   "execution_count": null,
   "metadata": {},
   "outputs": [],
   "source": [
    "data_dir = \"\"\n",
    "model.test_with_each_part(data_dir, \"test\")"
   ]
  }
 ],
 "metadata": {
  "kernelspec": {
   "display_name": "ai_work#311",
   "language": "python",
   "name": "python3"
  },
  "language_info": {
   "name": "python",
   "version": "3.11.9"
  }
 },
 "nbformat": 4,
 "nbformat_minor": 2
}
