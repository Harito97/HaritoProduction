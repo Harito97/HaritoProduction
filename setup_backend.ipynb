{
 "cells": [
  {
   "cell_type": "markdown",
   "metadata": {},
   "source": [
    "# Setup API in backend\n",
    "\n",
    "```bash\n",
    "pip install django\n",
    "pip install django-cors-headers\n",
    "\n",
    "```"
   ]
  }
 ],
 "metadata": {
  "language_info": {
   "name": "python"
  }
 },
 "nbformat": 4,
 "nbformat_minor": 2
}
