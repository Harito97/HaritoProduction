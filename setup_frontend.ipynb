{
 "cells": [
  {
   "cell_type": "markdown",
   "metadata": {
    "vscode": {
     "languageId": "shellscript"
    }
   },
   "source": [
    "# Install needed package\n",
    "\n",
    "```bash\n",
    "cd path/to/project_HaritoProduction\n",
    "npx create-react-app frontend\n",
    "cd frontend     # cd path/to/project_HaritoProduction/frontend\n",
    "npm install @mui/material @emotion/react @emotion/styled\n",
    "npm install @mui/icons-material\n",
    "npm install react-router-dom@latest     # for change the dir on localhost\n",
    "npm install react-player                # to play the video\n",
    "npm install axios                       # to select file from computer\n",
    "# npm install react-chartjs-2             # for chart\n",
    "npm install recharts                    # for chart\n",
    "npm install react-markdown              # to show markdown\n",
    "\n",
    "# export NODE_OPTIONS=--openssl-legacy-provider   # to fix this: https://stackoverflow.com/questions/69665222/node-js-17-0-1-gatsby-error-digital-envelope-routinesunsupported-err-os\n",
    "\n",
    "# npm audit fix --force\n",
    "# npm install --legacy-peer-deps\n",
    "```\n",
    "\n"
   ]
  },
  {
   "cell_type": "markdown",
   "metadata": {},
   "source": [
    "# Fix the error: \n",
    "\n",
    "Error: error:0308010C:digital envelope routines::unsupported\n",
    "\n",
    "In your package.json: change this line\n",
    "```bash\n",
    "\"start\": \"react-scripts start\"\n",
    "```\n",
    "\n",
    "to\n",
    "```bash\n",
    "\"start\": \"react-scripts --openssl-legacy-provider start\"\n",
    "```\n"
   ]
  },
  {
   "cell_type": "markdown",
   "metadata": {},
   "source": [
    "# Frontend project structure folder\n",
    "\n",
    "```markdown\n",
    "frontend/\n",
    "├── node_modules/\n",
    "├── public/\n",
    "├── src/\n",
    "│   ├── components/\n",
    "│   │   └── TryApp.js\n",
    "│   ├── App.js\n",
    "│   ├── index.js\n",
    "│   └── ... (other files)\n",
    "├── package.json\n",
    "└── ... (other files)\n",
    "```\n"
   ]
  }
 ],
 "metadata": {
  "language_info": {
   "name": "python"
  }
 },
 "nbformat": 4,
 "nbformat_minor": 2
}
